{
 "cells": [
  {
   "cell_type": "markdown",
   "id": "392f11d7",
   "metadata": {},
   "source": [
    "1. https://leetcode.com/problems/maximum-product-of-three-numbers/"
   ]
  },
  {
   "cell_type": "code",
   "execution_count": 6,
   "id": "e792f1d6",
   "metadata": {},
   "outputs": [
    {
     "name": "stdout",
     "output_type": "stream",
     "text": [
      "sorted nums =  [-4, -3, 2, 4, 5]\n",
      "prod1 =  60\n",
      "prod2 =  40\n",
      "Maximum is:  60\n",
      "sorted nums =  [-90, 3, 4, 21, 30]\n",
      "prod1 =  -8100\n",
      "prod2 =  2520\n",
      "Maximum is:  2520\n"
     ]
    }
   ],
   "source": [
    "def maximumProduct(nums):\n",
    "    \n",
    "    nums = sorted(nums)\n",
    "    print(\"sorted nums = \", nums)\n",
    "    \n",
    "\n",
    "    prod1= nums[0]* nums[1]* nums[-1]\n",
    "    print(\"prod1 = \", prod1)\n",
    "    \n",
    "    prod2 = nums[-1]*nums[-2]*nums[-3]\n",
    "    print(\"prod2 = \", prod2)\n",
    "    \n",
    "    print(\"Maximum is: \", max(prod1, prod2))\n",
    "\n",
    "\n",
    "maximumProduct([-3,-4,5,2,4])\n",
    "maximumProduct([3,4,30,21,-90])"
   ]
  },
  {
   "cell_type": "markdown",
   "id": "25b3a972",
   "metadata": {},
   "source": [
    "2. https://leetcode.com/problems/richest-customer-wealth/"
   ]
  },
  {
   "cell_type": "code",
   "execution_count": 11,
   "id": "a01d8f91",
   "metadata": {},
   "outputs": [
    {
     "data": {
      "text/plain": [
       "10"
      ]
     },
     "execution_count": 11,
     "metadata": {},
     "output_type": "execute_result"
    }
   ],
   "source": [
    "def maximumWealth(accounts):\n",
    "        \n",
    "        richest = 0\n",
    "        for i in accounts:\n",
    "            temp = sum(i)\n",
    "            if temp>richest:\n",
    "                richest = temp\n",
    "        return richest\n",
    "acc=[[1,5],[7,3],[3,5]]\n",
    "maximumWealth(acc)\n",
    "        "
   ]
  },
  {
   "cell_type": "markdown",
   "id": "ddce00f6",
   "metadata": {},
   "source": [
    "3. https://leetcode.com/problems/shuffle-the-array/"
   ]
  },
  {
   "cell_type": "code",
   "execution_count": null,
   "id": "7509172b",
   "metadata": {},
   "outputs": [],
   "source": [
    "\n",
    "    def shuffle(nums):\n",
    "        result=[]\n",
    "        for i in range(n):\n",
    "            result+=[nums[i]]+[nums[i+n]]\n",
    "        return result\n",
    "        \n",
    "    n1= "
   ]
  },
  {
   "cell_type": "markdown",
   "id": "332f5873",
   "metadata": {},
   "source": [
    "4. https://leetcode.com/problems/valid-perfect-square/"
   ]
  },
  {
   "cell_type": "code",
   "execution_count": 12,
   "id": "40e6ee21",
   "metadata": {},
   "outputs": [],
   "source": [
    "def isPerfectSquare(num):\n",
    "    x=num\n",
    "    print(x)\n",
    "\n",
    "    if (num**0.5 == int(num**0.5)):\n",
    "            return True\n",
    "    else:\n",
    "        return False"
   ]
  },
  {
   "cell_type": "code",
   "execution_count": 13,
   "id": "4519271f",
   "metadata": {},
   "outputs": [
    {
     "name": "stdout",
     "output_type": "stream",
     "text": [
      "4\n",
      "True\n",
      "24\n",
      "False\n"
     ]
    }
   ],
   "source": [
    "ex1= isPerfectSquare(4)\n",
    "print(ex1)\n",
    "ex2= isPerfectSquare(24)\n",
    "print(ex2)"
   ]
  },
  {
   "cell_type": "code",
   "execution_count": null,
   "id": "dcd1aaa0",
   "metadata": {},
   "outputs": [],
   "source": []
  }
 ],
 "metadata": {
  "kernelspec": {
   "display_name": "Python 3",
   "language": "python",
   "name": "python3"
  },
  "language_info": {
   "codemirror_mode": {
    "name": "ipython",
    "version": 3
   },
   "file_extension": ".py",
   "mimetype": "text/x-python",
   "name": "python",
   "nbconvert_exporter": "python",
   "pygments_lexer": "ipython3",
   "version": "3.8.8"
  }
 },
 "nbformat": 4,
 "nbformat_minor": 5
}
